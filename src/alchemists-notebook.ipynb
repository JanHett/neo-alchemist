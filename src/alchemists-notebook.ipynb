{
 "cells": [
  {
   "cell_type": "code",
   "execution_count": null,
   "metadata": {},
   "outputs": [],
   "source": [
    "%matplotlib inline\n",
    "%load_ext autoreload\n",
    "%autoreload 2\n",
    "\n",
    "import matplotlib as mpl\n",
    "mpl.rcParams['figure.figsize'] = 10, 15\n",
    "from matplotlib.pyplot import imshow\n",
    "\n",
    "import rawpy\n",
    "import numpy as np\n",
    "from spells import \\\n",
    "    smoothstep3, \\\n",
    "    smoothstart2, \\\n",
    "    smoothstart3, \\\n",
    "    smoothstart4, \\\n",
    "    smoothstart5, \\\n",
    "    smoothstart6, \\\n",
    "    smoothstop2, \\\n",
    "    smoothstop3, \\\n",
    "    smoothstop4, \\\n",
    "    smoothstop5, \\\n",
    "    smoothstop6, \\\n",
    "    crossfade\n",
    "\n",
    "import PyOpenColorIO as OCIO"
   ]
  },
  {
   "cell_type": "markdown",
   "metadata": {},
   "source": [
    "## Check that we have the correct OCIO config"
   ]
  },
  {
   "cell_type": "code",
   "execution_count": null,
   "metadata": {},
   "outputs": [],
   "source": [
    "import os\n",
    "\n",
    "print(os.environ[\"OCIO\"])"
   ]
  },
  {
   "cell_type": "markdown",
   "metadata": {},
   "source": [
    "## Some utility funtions"
   ]
  },
  {
   "cell_type": "code",
   "execution_count": null,
   "metadata": {},
   "outputs": [],
   "source": [
    "ocio_config = OCIO.GetCurrentConfig()\n",
    "\n",
    "ocio_display = ocio_config.getDefaultDisplay()\n",
    "ocio_view = ocio_config.getDefaultView(ocio_display)\n",
    "ocio_processor = ocio_config.getProcessor(\n",
    "    OCIO.ROLE_SCENE_LINEAR,\n",
    "    ocio_display,\n",
    "    ocio_view,\n",
    "    OCIO.TRANSFORM_DIR_FORWARD)\n",
    "ocio_cpu = ocio_processor.getDefaultCPUProcessor()\n",
    "\n",
    "def ccshow(image):\n",
    "    \"\"\"\n",
    "    Applies a scene-linear to display colour space transform to a copy of the\n",
    "    image before calling `imshow` on it\n",
    "    \"\"\"\n",
    "    to_display = image.copy()\n",
    "    ocio_cpu.applyRGB(to_display)\n",
    "\n",
    "    print(f\"max: {np.max(to_display)}\")\n",
    "    print(f\"min: {np.min(to_display)}\")\n",
    "\n",
    "    imshow(to_display)"
   ]
  },
  {
   "cell_type": "code",
   "execution_count": null,
   "metadata": {},
   "outputs": [],
   "source": [
    "srgb_processor = ocio_config.getProcessor(OCIO.ROLE_SCENE_LINEAR, \"srgb8\")\n",
    "srgb_cpu = srgb_processor.getDefaultCPUProcessor()\n",
    "\n",
    "def srgbshow(image):\n",
    "    to_display = image.copy()\n",
    "    srgb_cpu.applyRGB(to_display)\n",
    "\n",
    "    to_display = to_display * 1.1344219641\n",
    "\n",
    "    print(f\"max: {np.max(to_display)}\")\n",
    "    print(f\"min: {np.min(to_display)}\")\n",
    "    print(f\"to_display.dtype: {to_display.dtype}\")\n",
    "\n",
    "    imshow(to_display)"
   ]
  },
  {
   "cell_type": "code",
   "execution_count": null,
   "metadata": {},
   "outputs": [],
   "source": [
    "# test image for ccshow\n",
    "\n",
    "img = np.zeros((256, 256, 3), np.float32)\n",
    "\n",
    "# black grey white\n",
    "img[:42, 85:170, ...] = 0.18\n",
    "img[42:85, 85:170, ...] = 0.5\n",
    "img[:85, 170:256, ...] = 1.0\n",
    "\n",
    "# black-white gradient\n",
    "\n",
    "for x in range(256):\n",
    "    img[30:54, x, ...] = x/255\n",
    "\n",
    "# red green blue\n",
    "img[85:170, :85, 0] = 1\n",
    "img[85:170, :85, 1] = 0\n",
    "img[85:170, :85, 2] = 0\n",
    "\n",
    "img[85:170, 85:170, 0] = 0\n",
    "img[85:170, 85:170, 1] = 1\n",
    "img[85:170, 85:170, 2] = 0\n",
    "\n",
    "img[85:170, 170:256, 0] = 0\n",
    "img[85:170, 170:256, 1] = 0\n",
    "img[85:170, 170:256, 2] = 1.0\n",
    "\n",
    "# cyan magenta yellow\n",
    "\n",
    "img[170:256, :85, 0] = 0\n",
    "img[170:256, :85, 1] = 1\n",
    "img[170:256, :85, 2] = 1\n",
    "\n",
    "img[170:256, 85:170, 0] = 1\n",
    "img[170:256, 85:170, 1] = 0\n",
    "img[170:256, 85:170, 2] = 1\n",
    "\n",
    "img[170:256, 170:256, 0] = 1\n",
    "img[170:256, 170:256, 1] = 1\n",
    "img[170:256, 170:256, 2] = 0\n",
    "\n",
    "imshow(img)\n"
   ]
  },
  {
   "cell_type": "code",
   "execution_count": null,
   "metadata": {},
   "outputs": [],
   "source": [
    "ccshow(img)"
   ]
  },
  {
   "cell_type": "code",
   "execution_count": null,
   "metadata": {},
   "outputs": [],
   "source": [
    "srgbshow(img)"
   ]
  },
  {
   "cell_type": "markdown",
   "metadata": {},
   "source": [
    "# Load an image\n",
    "\n",
    "Edit the string `img_path` to select your image."
   ]
  },
  {
   "cell_type": "code",
   "execution_count": null,
   "metadata": {},
   "outputs": [],
   "source": [
    "img_path = \"../data/richard.iiq\"\n",
    "\n",
    "raw_data = rawpy.imread(img_path)\n",
    "\n",
    "uncorrected_linear = raw_data.postprocess(\n",
    "    half_size=True,\n",
    "    output_color=rawpy.ColorSpace.raw,\n",
    "    # output_bps=16,\n",
    "    gamma=(1, 1),\n",
    "    user_wb=[1.0, 1.0, 1.0, 1.0],\n",
    "    no_auto_bright=True\n",
    "    )\n",
    "\n",
    "imshow(uncorrected_linear)"
   ]
  },
  {
   "cell_type": "code",
   "execution_count": null,
   "metadata": {},
   "outputs": [],
   "source": [
    "x1 = 1000\n",
    "x2 = 4300\n",
    "y1 = 25\n",
    "y2 = 200\n",
    "\n",
    "wb_patch = uncorrected_linear[y1:y2, x1:x2]\n",
    "\n",
    "imshow(wb_patch)"
   ]
  },
  {
   "cell_type": "code",
   "execution_count": null,
   "metadata": {},
   "outputs": [],
   "source": [
    "avg_r = np.average(wb_patch[..., 0])\n",
    "avg_g = np.average(wb_patch[..., 1])\n",
    "avg_b = np.average(wb_patch[..., 2])\n",
    "\n",
    "base_wb = [avg_g/avg_r, 1.0, avg_g/avg_b, 1.0]\n",
    "\n",
    "white_balanced = np.array(raw_data.postprocess(\n",
    "    user_wb=base_wb,\n",
    "    # output_color=rawpy.ColorSpace.ProPhoto,\n",
    "    output_color=rawpy.ColorSpace.raw,\n",
    "    output_bps=16\n",
    "    ), dtype=np.float32) / np.iinfo(np.uint16).max\n",
    "\n",
    "ccshow(white_balanced)"
   ]
  },
  {
   "cell_type": "code",
   "execution_count": null,
   "metadata": {},
   "outputs": [],
   "source": [
    "wb_proxy = white_balanced[::10, ::10]\n",
    "\n",
    "ccshow(wb_proxy)"
   ]
  },
  {
   "cell_type": "code",
   "execution_count": null,
   "metadata": {},
   "outputs": [],
   "source": [
    "working_data = wb_proxy # replace with `white_balanced` for full resolution\n",
    "\n",
    "max_r = np.max(working_data[..., 0])\n",
    "max_g = np.max(working_data[..., 1])\n",
    "max_b = np.max(working_data[..., 2])\n",
    "\n",
    "inverted = 1 - working_data.copy()\n",
    "\n",
    "# inverted[..., 0] = max_r - working_data[..., 0]\n",
    "# inverted[..., 1] = max_g - working_data[..., 1]\n",
    "# inverted[..., 2] = max_b - working_data[..., 2]\n",
    "\n",
    "ccshow(inverted)\n",
    "imshow(inverted)\n"
   ]
  },
  {
   "cell_type": "code",
   "execution_count": null,
   "metadata": {},
   "outputs": [],
   "source": [
    "corrected = inverted.copy()\n",
    "\n",
    "# corrected[..., 0] = np.clip(corrected[..., 0] * 1.15, 0, 1.0)\n",
    "# corrected[..., 1] = np.clip(corrected[..., 1] * 1.08, 0, 1.0)\n",
    "# corrected[..., 2] = np.clip(corrected[..., 2] * 1.0, 0, 1.0)\n",
    "\n",
    "# corrected = np.clip(corrected * 1.5, 0, 1.0)\n",
    "\n",
    "ccshow(corrected)"
   ]
  },
  {
   "cell_type": "code",
   "execution_count": null,
   "metadata": {},
   "outputs": [],
   "source": [
    "curved = corrected.copy()\n",
    "\n",
    "offset = 0.42\n",
    "\n",
    "# curved = np.clip((curved * (1 + offset)) - offset, 0, 1)\n",
    "\n",
    "curved = crossfade(smoothstart5, smoothstop2, curved)\n",
    "\n",
    "ccshow(curved)\n",
    "imshow(curved)"
   ]
  }
 ],
 "metadata": {
  "interpreter": {
   "hash": "b06a7a80ec540e5f08c13a7e7a66bbe036cd53e2d6a2c1d04a0f03231ce3a514"
  },
  "kernelspec": {
   "display_name": "Python 3.9.6 64-bit ('alchemists-notebook-Nb4EgOPN': venv)",
   "name": "python3"
  },
  "language_info": {
   "codemirror_mode": {
    "name": "ipython",
    "version": 3
   },
   "file_extension": ".py",
   "mimetype": "text/x-python",
   "name": "python",
   "nbconvert_exporter": "python",
   "pygments_lexer": "ipython3",
   "version": "3.9.7"
  },
  "orig_nbformat": 4
 },
 "nbformat": 4,
 "nbformat_minor": 2
}
